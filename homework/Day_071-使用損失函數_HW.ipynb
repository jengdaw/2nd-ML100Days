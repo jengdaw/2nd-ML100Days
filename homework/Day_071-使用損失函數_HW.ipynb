{
 "cells": [
  {
   "cell_type": "markdown",
   "metadata": {
    "colab_type": "text",
    "id": "cj4tE8e8iUtO"
   },
   "source": [
    "#   \n",
    "\n",
    "# 作業目標:\n",
    "\n",
    "    1. 藉由固定的 dataset, 來驗證不同loss function\n",
    "    2. Dataset 的特性跟我們選用的loss function 對accrancy 的影響\n",
    "    \n",
    "    \n",
    "# 作業重點: \n",
    "    請分別選用 \"MSE\", \"binary _crossentropy\"\n",
    "    查看Train/test accurancy and loss rate\n",
    "    "
   ]
  },
  {
   "cell_type": "markdown",
   "metadata": {
    "colab_type": "text",
    "id": "R51J4KyyiUsL"
   },
   "source": [
    "# 導入必要的函數"
   ]
  },
  {
   "cell_type": "code",
   "execution_count": 1,
   "metadata": {
    "colab": {},
    "colab_type": "code",
    "id": "Qd68OQjciUsM"
   },
   "outputs": [
    {
     "name": "stderr",
     "output_type": "stream",
     "text": [
      "Using TensorFlow backend.\n",
      "C:\\Anaconda3\\lib\\site-packages\\tensorflow\\python\\framework\\dtypes.py:523: FutureWarning: Passing (type, 1) or '1type' as a synonym of type is deprecated; in a future version of numpy, it will be understood as (type, (1,)) / '(1,)type'.\n",
      "  _np_qint8 = np.dtype([(\"qint8\", np.int8, 1)])\n",
      "C:\\Anaconda3\\lib\\site-packages\\tensorflow\\python\\framework\\dtypes.py:524: FutureWarning: Passing (type, 1) or '1type' as a synonym of type is deprecated; in a future version of numpy, it will be understood as (type, (1,)) / '(1,)type'.\n",
      "  _np_quint8 = np.dtype([(\"quint8\", np.uint8, 1)])\n",
      "C:\\Anaconda3\\lib\\site-packages\\tensorflow\\python\\framework\\dtypes.py:525: FutureWarning: Passing (type, 1) or '1type' as a synonym of type is deprecated; in a future version of numpy, it will be understood as (type, (1,)) / '(1,)type'.\n",
      "  _np_qint16 = np.dtype([(\"qint16\", np.int16, 1)])\n",
      "C:\\Anaconda3\\lib\\site-packages\\tensorflow\\python\\framework\\dtypes.py:526: FutureWarning: Passing (type, 1) or '1type' as a synonym of type is deprecated; in a future version of numpy, it will be understood as (type, (1,)) / '(1,)type'.\n",
      "  _np_quint16 = np.dtype([(\"quint16\", np.uint16, 1)])\n",
      "C:\\Anaconda3\\lib\\site-packages\\tensorflow\\python\\framework\\dtypes.py:527: FutureWarning: Passing (type, 1) or '1type' as a synonym of type is deprecated; in a future version of numpy, it will be understood as (type, (1,)) / '(1,)type'.\n",
      "  _np_qint32 = np.dtype([(\"qint32\", np.int32, 1)])\n",
      "C:\\Anaconda3\\lib\\site-packages\\tensorflow\\python\\framework\\dtypes.py:532: FutureWarning: Passing (type, 1) or '1type' as a synonym of type is deprecated; in a future version of numpy, it will be understood as (type, (1,)) / '(1,)type'.\n",
      "  np_resource = np.dtype([(\"resource\", np.ubyte, 1)])\n"
     ]
    }
   ],
   "source": [
    "from keras.datasets import cifar10\n",
    "import numpy as np\n",
    "np.random.seed(10)"
   ]
  },
  {
   "cell_type": "markdown",
   "metadata": {
    "colab_type": "text",
    "id": "GxKuzQLQiUsP"
   },
   "source": [
    "# 資料準備"
   ]
  },
  {
   "cell_type": "code",
   "execution_count": 2,
   "metadata": {
    "colab": {},
    "colab_type": "code",
    "id": "MIbFZdTCiUsQ"
   },
   "outputs": [],
   "source": [
    "#取得Keras Dataset\n",
    "(x_img_train,y_label_train),(x_img_test,y_label_test)=cifar10.load_data()"
   ]
  },
  {
   "cell_type": "code",
   "execution_count": 3,
   "metadata": {
    "colab": {},
    "colab_type": "code",
    "id": "J8CJVjNOiUsS"
   },
   "outputs": [
    {
     "name": "stdout",
     "output_type": "stream",
     "text": [
      "train data: images: (50000, 32, 32, 3)  labels: (50000, 1)\n",
      "test  data: images: (10000, 32, 32, 3)  labels: (10000, 1)\n"
     ]
    }
   ],
   "source": [
    "#確認 CIFAR10 Dataset 資料維度\n",
    "print(\"train data:\",'images:',x_img_train.shape,\n",
    "      \" labels:\",y_label_train.shape) \n",
    "print(\"test  data:\",'images:',x_img_test.shape ,\n",
    "      \" labels:\",y_label_test.shape) "
   ]
  },
  {
   "cell_type": "code",
   "execution_count": 4,
   "metadata": {
    "colab": {},
    "colab_type": "code",
    "id": "V3P6P4DXiUsV"
   },
   "outputs": [],
   "source": [
    "#資料正規化\n",
    "x_img_train_normalize = x_img_train.astype('float32') / 255.0\n",
    "x_img_test_normalize = x_img_test.astype('float32') / 255.0"
   ]
  },
  {
   "cell_type": "code",
   "execution_count": 5,
   "metadata": {
    "colab": {},
    "colab_type": "code",
    "id": "vsDyjKYliUsX"
   },
   "outputs": [
    {
     "data": {
      "text/plain": [
       "(10000, 10)"
      ]
     },
     "execution_count": 5,
     "metadata": {},
     "output_type": "execute_result"
    }
   ],
   "source": [
    "#針對Label 做 ONE HOT ENCODE\n",
    "from keras.utils import np_utils\n",
    "y_label_train_OneHot = np_utils.to_categorical(y_label_train)\n",
    "y_label_test_OneHot = np_utils.to_categorical(y_label_test)\n",
    "y_label_test_OneHot.shape"
   ]
  },
  {
   "cell_type": "markdown",
   "metadata": {
    "colab_type": "text",
    "id": "RutW2OtgiUsZ"
   },
   "source": [
    "# 建立模型"
   ]
  },
  {
   "cell_type": "code",
   "execution_count": 6,
   "metadata": {
    "colab": {},
    "colab_type": "code",
    "id": "aHz592aXiUsa"
   },
   "outputs": [],
   "source": [
    "from keras.models import Sequential\n",
    "from keras.layers import Dense, Dropout, Activation, Flatten\n",
    "from keras.layers import Conv2D, MaxPooling2D, ZeroPadding2D"
   ]
  },
  {
   "cell_type": "code",
   "execution_count": 7,
   "metadata": {
    "colab": {},
    "colab_type": "code",
    "id": "hslqrIp0iUse"
   },
   "outputs": [],
   "source": [
    "model = Sequential()"
   ]
  },
  {
   "cell_type": "code",
   "execution_count": 8,
   "metadata": {
    "colab": {},
    "colab_type": "code",
    "id": "Hqe35hs2iUsi"
   },
   "outputs": [],
   "source": [
    "#卷積層1"
   ]
  },
  {
   "cell_type": "code",
   "execution_count": 9,
   "metadata": {
    "colab": {},
    "colab_type": "code",
    "id": "ED7dqe1YiUsm"
   },
   "outputs": [],
   "source": [
    "model.add(Conv2D(filters=32,kernel_size=(3,3),\n",
    "                 input_shape=(32, 32,3), \n",
    "                 activation='relu', \n",
    "                 padding='same'))"
   ]
  },
  {
   "cell_type": "code",
   "execution_count": 10,
   "metadata": {
    "colab": {},
    "colab_type": "code",
    "id": "n-GRKmPViUso"
   },
   "outputs": [],
   "source": [
    "model.add(Dropout(rate=0.25))"
   ]
  },
  {
   "cell_type": "code",
   "execution_count": 11,
   "metadata": {
    "colab": {},
    "colab_type": "code",
    "id": "GlWnnD1uiUsw"
   },
   "outputs": [],
   "source": [
    "model.add(MaxPooling2D(pool_size=(2, 2)))"
   ]
  },
  {
   "cell_type": "code",
   "execution_count": 12,
   "metadata": {
    "colab": {},
    "colab_type": "code",
    "id": "nawlkt55iUsy"
   },
   "outputs": [],
   "source": [
    "#卷積層2與池化層2"
   ]
  },
  {
   "cell_type": "code",
   "execution_count": 13,
   "metadata": {
    "colab": {},
    "colab_type": "code",
    "id": "xxyETiKNiUs1"
   },
   "outputs": [],
   "source": [
    "model.add(Conv2D(filters=64, kernel_size=(3, 3), \n",
    "                 activation='relu', padding='same'))"
   ]
  },
  {
   "cell_type": "code",
   "execution_count": 14,
   "metadata": {
    "colab": {},
    "colab_type": "code",
    "id": "RqcKWtqGiUs2"
   },
   "outputs": [],
   "source": [
    "model.add(Dropout(0.25))"
   ]
  },
  {
   "cell_type": "code",
   "execution_count": 15,
   "metadata": {
    "colab": {},
    "colab_type": "code",
    "id": "BUOOzlqfiUs4"
   },
   "outputs": [],
   "source": [
    "model.add(MaxPooling2D(pool_size=(2, 2)))"
   ]
  },
  {
   "cell_type": "code",
   "execution_count": 16,
   "metadata": {
    "colab": {},
    "colab_type": "code",
    "id": "LpkppB2siUs7"
   },
   "outputs": [],
   "source": [
    "#建立神經網路(平坦層、隱藏層、輸出層)"
   ]
  },
  {
   "cell_type": "code",
   "execution_count": 17,
   "metadata": {
    "colab": {},
    "colab_type": "code",
    "id": "UQOfU54_iUs_"
   },
   "outputs": [],
   "source": [
    "model.add(Flatten())\n",
    "model.add(Dropout(rate=0.25))"
   ]
  },
  {
   "cell_type": "code",
   "execution_count": 18,
   "metadata": {
    "colab": {},
    "colab_type": "code",
    "id": "_NV-8sq4iUtD"
   },
   "outputs": [],
   "source": [
    "model.add(Dense(1024, activation='relu'))\n",
    "model.add(Dropout(rate=0.25))"
   ]
  },
  {
   "cell_type": "code",
   "execution_count": 19,
   "metadata": {
    "colab": {},
    "colab_type": "code",
    "id": "qVK77krOiUtF"
   },
   "outputs": [],
   "source": [
    "model.add(Dense(10, activation='softmax'))"
   ]
  },
  {
   "cell_type": "code",
   "execution_count": 20,
   "metadata": {
    "colab": {},
    "colab_type": "code",
    "id": "ZxzRIjR0iUtH"
   },
   "outputs": [
    {
     "name": "stdout",
     "output_type": "stream",
     "text": [
      "_________________________________________________________________\n",
      "Layer (type)                 Output Shape              Param #   \n",
      "=================================================================\n",
      "conv2d_1 (Conv2D)            (None, 32, 32, 32)        896       \n",
      "_________________________________________________________________\n",
      "dropout_1 (Dropout)          (None, 32, 32, 32)        0         \n",
      "_________________________________________________________________\n",
      "max_pooling2d_1 (MaxPooling2 (None, 16, 16, 32)        0         \n",
      "_________________________________________________________________\n",
      "conv2d_2 (Conv2D)            (None, 16, 16, 64)        18496     \n",
      "_________________________________________________________________\n",
      "dropout_2 (Dropout)          (None, 16, 16, 64)        0         \n",
      "_________________________________________________________________\n",
      "max_pooling2d_2 (MaxPooling2 (None, 8, 8, 64)          0         \n",
      "_________________________________________________________________\n",
      "flatten_1 (Flatten)          (None, 4096)              0         \n",
      "_________________________________________________________________\n",
      "dropout_3 (Dropout)          (None, 4096)              0         \n",
      "_________________________________________________________________\n",
      "dense_1 (Dense)              (None, 1024)              4195328   \n",
      "_________________________________________________________________\n",
      "dropout_4 (Dropout)          (None, 1024)              0         \n",
      "_________________________________________________________________\n",
      "dense_2 (Dense)              (None, 10)                10250     \n",
      "=================================================================\n",
      "Total params: 4,224,970\n",
      "Trainable params: 4,224,970\n",
      "Non-trainable params: 0\n",
      "_________________________________________________________________\n",
      "None\n"
     ]
    }
   ],
   "source": [
    "#檢查model 的STACK\n",
    "print(model.summary())"
   ]
  },
  {
   "cell_type": "markdown",
   "metadata": {
    "colab_type": "text",
    "id": "QJCtpJM0iUtJ"
   },
   "source": [
    "# 載入之前訓練的模型"
   ]
  },
  {
   "cell_type": "code",
   "execution_count": 21,
   "metadata": {
    "colab": {},
    "colab_type": "code",
    "id": "JU3A6NzQiUtK"
   },
   "outputs": [
    {
     "name": "stdout",
     "output_type": "stream",
     "text": [
      "載入模型失敗!開始訓練一個新模型\n"
     ]
    }
   ],
   "source": [
    "try:\n",
    "    model.load_weights(\"SaveModel/cifarCnnModel.h5\")\n",
    "    print(\"載入模型成功!繼續訓練模型\")\n",
    "except :    \n",
    "    print(\"載入模型失敗!開始訓練一個新模型\")"
   ]
  },
  {
   "cell_type": "markdown",
   "metadata": {
    "colab_type": "text",
    "id": "qBbCuziziUtM"
   },
   "source": [
    "# 訓練模型"
   ]
  },
  {
   "cell_type": "code",
   "execution_count": 22,
   "metadata": {
    "colab": {},
    "colab_type": "code",
    "id": "Q6BiBcseiUtP"
   },
   "outputs": [
    {
     "data": {
      "text/plain": [
       "'\\n作業:\\n請分別選用 \"MSE\", \"binary _crossentropy\"\\n查看Train/test accurancy and loss rate\\n'"
      ]
     },
     "execution_count": 22,
     "metadata": {},
     "output_type": "execute_result"
    }
   ],
   "source": [
    "model.compile(loss='categorical_crossentropy', optimizer='sgd', metrics=['accuracy'])\n",
    "\n",
    "'''\n",
    "作業:\n",
    "請分別選用 \"MSE\", \"binary _crossentropy\"\n",
    "查看Train/test accurancy and loss rate\n",
    "'''"
   ]
  },
  {
   "cell_type": "code",
   "execution_count": 23,
   "metadata": {
    "colab": {},
    "colab_type": "code",
    "id": "4-GdDgmQiUtS"
   },
   "outputs": [
    {
     "name": "stdout",
     "output_type": "stream",
     "text": [
      "Train on 37500 samples, validate on 12500 samples\n",
      "Epoch 1/12\n",
      "37500/37500 [==============================] - 119s 3ms/step - loss: 2.1650 - acc: 0.1991 - val_loss: 2.0523 - val_acc: 0.2953\n",
      "Epoch 2/12\n",
      "37500/37500 [==============================] - 118s 3ms/step - loss: 1.9550 - acc: 0.2961 - val_loss: 1.9352 - val_acc: 0.3461\n",
      "Epoch 3/12\n",
      "37500/37500 [==============================] - 115s 3ms/step - loss: 1.8343 - acc: 0.3476 - val_loss: 1.8431 - val_acc: 0.3815\n",
      "Epoch 4/12\n",
      "37500/37500 [==============================] - 114s 3ms/step - loss: 1.7311 - acc: 0.3804 - val_loss: 1.7500 - val_acc: 0.4169\n",
      "Epoch 5/12\n",
      "37500/37500 [==============================] - 118s 3ms/step - loss: 1.6507 - acc: 0.4097 - val_loss: 1.6822 - val_acc: 0.4386\n",
      "Epoch 6/12\n",
      "37500/37500 [==============================] - 114s 3ms/step - loss: 1.5866 - acc: 0.4312 - val_loss: 1.6511 - val_acc: 0.4494\n",
      "Epoch 7/12\n",
      "37500/37500 [==============================] - 115s 3ms/step - loss: 1.5320 - acc: 0.4537 - val_loss: 1.5893 - val_acc: 0.4746\n",
      "Epoch 8/12\n",
      "37500/37500 [==============================] - 114s 3ms/step - loss: 1.4855 - acc: 0.4674 - val_loss: 1.5366 - val_acc: 0.4852\n",
      "Epoch 9/12\n",
      "37500/37500 [==============================] - 114s 3ms/step - loss: 1.4463 - acc: 0.4824 - val_loss: 1.4756 - val_acc: 0.5128\n",
      "Epoch 10/12\n",
      "37500/37500 [==============================] - 114s 3ms/step - loss: 1.4112 - acc: 0.4940 - val_loss: 1.4496 - val_acc: 0.5241\n",
      "Epoch 11/12\n",
      "37500/37500 [==============================] - 114s 3ms/step - loss: 1.3818 - acc: 0.5057 - val_loss: 1.4397 - val_acc: 0.5350\n",
      "Epoch 12/12\n",
      "37500/37500 [==============================] - 114s 3ms/step - loss: 1.3499 - acc: 0.5215 - val_loss: 1.4098 - val_acc: 0.5382\n"
     ]
    }
   ],
   "source": [
    "#模型訓練, \"Train_History\" 把訓練過程所得到的數值存起來\n",
    "train_history=model.fit(x_img_train_normalize, y_label_train_OneHot,\n",
    "                        validation_split=0.25,\n",
    "                        epochs=12, batch_size=128, verbose=1)  "
   ]
  },
  {
   "cell_type": "code",
   "execution_count": 24,
   "metadata": {},
   "outputs": [],
   "source": [
    "import matplotlib.pyplot as plt\n",
    "%matplotlib inline\n",
    "\n",
    "#定義一個繪圖函數\n",
    "def show_train_history(train_acc,test_acc):\n",
    "    plt.plot(train_history.history[train_acc])\n",
    "    plt.plot(train_history.history[test_acc])\n",
    "    plt.title('Train History')\n",
    "    plt.ylabel('Accuracy')\n",
    "    plt.xlabel('Epoch')\n",
    "    plt.legend(['train_acc', 'val_acc'], loc='upper left')\n",
    "    plt.show()"
   ]
  },
  {
   "cell_type": "code",
   "execution_count": null,
   "metadata": {},
   "outputs": [],
   "source": []
  },
  {
   "cell_type": "code",
   "execution_count": 25,
   "metadata": {},
   "outputs": [
    {
     "data": {
      "image/png": "[encoded data removed]",
      "text/plain": [
       "<Figure size 432x288 with 1 Axes>"
      ]
     },
     "metadata": {},
     "output_type": "display_data"
    }
   ],
   "source": [
    "show_train_history('acc', 'val_acc')"
   ]
  },
  {
   "cell_type": "code",
   "execution_count": 26,
   "metadata": {},
   "outputs": [],
   "source": [
    "model.compile(loss='binary_crossentropy', optimizer='sgd', metrics=['accuracy'])"
   ]
  },
  {
   "cell_type": "code",
   "execution_count": 27,
   "metadata": {},
   "outputs": [
    {
     "name": "stdout",
     "output_type": "stream",
     "text": [
      "Train on 37500 samples, validate on 12500 samples\n",
      "Epoch 1/12\n",
      "37500/37500 [==============================] - 115s 3ms/step - loss: 0.2050 - acc: 0.9195 - val_loss: 0.2143 - val_acc: 0.9141\n",
      "Epoch 2/12\n",
      "37500/37500 [==============================] - 114s 3ms/step - loss: 0.2040 - acc: 0.9200 - val_loss: 0.2132 - val_acc: 0.9150\n",
      "Epoch 3/12\n",
      "37500/37500 [==============================] - 114s 3ms/step - loss: 0.2036 - acc: 0.9200 - val_loss: 0.2123 - val_acc: 0.9151\n",
      "Epoch 4/12\n",
      "37500/37500 [==============================] - 114s 3ms/step - loss: 0.2026 - acc: 0.9201 - val_loss: 0.2122 - val_acc: 0.9151\n",
      "Epoch 5/12\n",
      "37500/37500 [==============================] - 116s 3ms/step - loss: 0.2021 - acc: 0.9203 - val_loss: 0.2113 - val_acc: 0.9157\n",
      "Epoch 6/12\n",
      "37500/37500 [==============================] - 115s 3ms/step - loss: 0.2019 - acc: 0.9206 - val_loss: 0.2111 - val_acc: 0.9162\n",
      "Epoch 7/12\n",
      "37500/37500 [==============================] - 117s 3ms/step - loss: 0.2018 - acc: 0.9206 - val_loss: 0.2103 - val_acc: 0.9160\n",
      "Epoch 8/12\n",
      "37500/37500 [==============================] - 114s 3ms/step - loss: 0.2011 - acc: 0.9209 - val_loss: 0.2105 - val_acc: 0.9159\n",
      "Epoch 9/12\n",
      "37500/37500 [==============================] - 114s 3ms/step - loss: 0.2003 - acc: 0.9212 - val_loss: 0.2096 - val_acc: 0.9164\n",
      "Epoch 10/12\n",
      "37500/37500 [==============================] - 114s 3ms/step - loss: 0.2002 - acc: 0.9212 - val_loss: 0.2094 - val_acc: 0.9164\n",
      "Epoch 11/12\n",
      "37500/37500 [==============================] - 114s 3ms/step - loss: 0.1993 - acc: 0.9215 - val_loss: 0.2092 - val_acc: 0.9163\n",
      "Epoch 12/12\n",
      "37500/37500 [==============================] - 114s 3ms/step - loss: 0.1988 - acc: 0.9220 - val_loss: 0.2086 - val_acc: 0.9166\n"
     ]
    }
   ],
   "source": [
    "#模型訓練, \"Train_History\" 把訓練過程所得到的數值存起來\n",
    "train_history=model.fit(x_img_train_normalize, y_label_train_OneHot,\n",
    "                        validation_split=0.25,\n",
    "                        epochs=12, batch_size=128, verbose=1)  "
   ]
  },
  {
   "cell_type": "code",
   "execution_count": 28,
   "metadata": {},
   "outputs": [],
   "source": [
    "import matplotlib.pyplot as plt\n",
    "%matplotlib inline\n",
    "\n",
    "#定義一個繪圖函數\n",
    "def show_train_history(train_acc,test_acc):\n",
    "    plt.plot(train_history.history[train_acc])\n",
    "    plt.plot(train_history.history[test_acc])\n",
    "    plt.title('Train History')\n",
    "    plt.ylabel('Accuracy')\n",
    "    plt.xlabel('Epoch')\n",
    "    plt.legend(['train_acc', 'val_acc'], loc='upper left')\n",
    "    plt.show()"
   ]
  },
  {
   "cell_type": "code",
   "execution_count": 29,
   "metadata": {},
   "outputs": [
    {
     "data": {
      "image/png": "[encoded data removed]",
      "text/plain": [
       "<Figure size 432x288 with 1 Axes>"
      ]
     },
     "metadata": {},
     "output_type": "display_data"
    }
   ],
   "source": [
    "show_train_history('acc', 'val_acc')"
   ]
  },
  {
   "cell_type": "code",
   "execution_count": 30,
   "metadata": {},
   "outputs": [],
   "source": [
    "model.compile(loss='MSE', optimizer='sgd', metrics=['accuracy'])"
   ]
  },
  {
   "cell_type": "code",
   "execution_count": 31,
   "metadata": {},
   "outputs": [
    {
     "name": "stdout",
     "output_type": "stream",
     "text": [
      "Train on 37500 samples, validate on 12500 samples\n",
      "Epoch 1/12\n",
      "37500/37500 [==============================] - 118s 3ms/step - loss: 0.0586 - acc: 0.5500 - val_loss: 0.0609 - val_acc: 0.5673\n",
      "Epoch 2/12\n",
      "37500/37500 [==============================] - 129s 3ms/step - loss: 0.0584 - acc: 0.5508 - val_loss: 0.0609 - val_acc: 0.5666\n",
      "Epoch 3/12\n",
      "37500/37500 [==============================] - 128s 3ms/step - loss: 0.0583 - acc: 0.5514 - val_loss: 0.0608 - val_acc: 0.5673\n",
      "Epoch 4/12\n",
      "37500/37500 [==============================] - 125s 3ms/step - loss: 0.0587 - acc: 0.5466 - val_loss: 0.0608 - val_acc: 0.5674\n",
      "Epoch 5/12\n",
      "37500/37500 [==============================] - 128s 3ms/step - loss: 0.0583 - acc: 0.5526 - val_loss: 0.0607 - val_acc: 0.5696\n",
      "Epoch 6/12\n",
      "37500/37500 [==============================] - 117s 3ms/step - loss: 0.0583 - acc: 0.5520 - val_loss: 0.0607 - val_acc: 0.5682\n",
      "Epoch 7/12\n",
      "37500/37500 [==============================] - 114s 3ms/step - loss: 0.0581 - acc: 0.5545 - val_loss: 0.0606 - val_acc: 0.5691\n",
      "Epoch 8/12\n",
      "37500/37500 [==============================] - 114s 3ms/step - loss: 0.0582 - acc: 0.5540 - val_loss: 0.0606 - val_acc: 0.5700\n",
      "Epoch 9/12\n",
      "37500/37500 [==============================] - 114s 3ms/step - loss: 0.0582 - acc: 0.5545 - val_loss: 0.0606 - val_acc: 0.5690\n",
      "Epoch 10/12\n",
      "37500/37500 [==============================] - 115s 3ms/step - loss: 0.0580 - acc: 0.5544 - val_loss: 0.0605 - val_acc: 0.5709\n",
      "Epoch 11/12\n",
      "37500/37500 [==============================] - 122s 3ms/step - loss: 0.0579 - acc: 0.5565 - val_loss: 0.0604 - val_acc: 0.5701\n",
      "Epoch 12/12\n",
      "37500/37500 [==============================] - 118s 3ms/step - loss: 0.0581 - acc: 0.5533 - val_loss: 0.0604 - val_acc: 0.5711\n"
     ]
    }
   ],
   "source": [
    "#模型訓練, \"Train_History\" 把訓練過程所得到的數值存起來\n",
    "train_history=model.fit(x_img_train_normalize, y_label_train_OneHot,\n",
    "                        validation_split=0.25,\n",
    "                        epochs=12, batch_size=128, verbose=1)  "
   ]
  },
  {
   "cell_type": "code",
   "execution_count": 32,
   "metadata": {},
   "outputs": [],
   "source": [
    "import matplotlib.pyplot as plt\n",
    "%matplotlib inline\n",
    "\n",
    "#定義一個繪圖函數\n",
    "def show_train_history(train_acc,test_acc):\n",
    "    plt.plot(train_history.history[train_acc])\n",
    "    plt.plot(train_history.history[test_acc])\n",
    "    plt.title('Train History')\n",
    "    plt.ylabel('Accuracy')\n",
    "    plt.xlabel('Epoch')\n",
    "    plt.legend(['train_acc', 'val_acc'], loc='upper left')\n",
    "    plt.show()"
   ]
  },
  {
   "cell_type": "code",
   "execution_count": 33,
   "metadata": {},
   "outputs": [
    {
     "data": {
      "image/png": "[encoded data removed]",
      "text/plain": [
       "<Figure size 432x288 with 1 Axes>"
      ]
     },
     "metadata": {},
     "output_type": "display_data"
    }
   ],
   "source": [
    "show_train_history('acc', 'val_acc')"
   ]
  },
  {
   "cell_type": "code",
   "execution_count": null,
   "metadata": {},
   "outputs": [],
   "source": []
  }
 ],
 "metadata": {
  "colab": {
   "name": "Day71-使用損失函數_HW.ipynb",
   "provenance": [],
   "version": "0.3.2"
  },
  "kernelspec": {
   "display_name": "Python 3",
   "language": "python",
   "name": "python3"
  },
  "language_info": {
   "codemirror_mode": {
    "name": "ipython",
    "version": 3
   },
   "file_extension": ".py",
   "mimetype": "text/x-python",
   "name": "python",
   "nbconvert_exporter": "python",
   "pygments_lexer": "ipython3",
   "version": "3.6.5"
  }
 },
 "nbformat": 4,
 "nbformat_minor": 1
}
